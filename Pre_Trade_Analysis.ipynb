{
 "cells": [
  {
   "cell_type": "code",
   "execution_count": 1,
   "metadata": {},
   "outputs": [
    {
     "data": {
      "text/html": [
       "<style>.container { width:100% !important; }</style>"
      ],
      "text/plain": [
       "<IPython.core.display.HTML object>"
      ]
     },
     "metadata": {},
     "output_type": "display_data"
    }
   ],
   "source": [
    "from IPython.core.display import display, HTML\n",
    "display(HTML(\"<style>.container { width:100% !important; }</style>\"))"
   ]
  },
  {
   "cell_type": "code",
   "execution_count": 2,
   "metadata": {},
   "outputs": [],
   "source": [
    "import numpy as np\n",
    "import pandas as pd"
   ]
  },
  {
   "cell_type": "code",
   "execution_count": 3,
   "metadata": {},
   "outputs": [],
   "source": [
    "BCH = pd.read_parquet('BCH-USDT.parquet', engine='fastparquet')  # Tick size: 0.01\n",
    "BTC = pd.read_parquet('BTC-USDT.parquet', engine='fastparquet')  # Tick size: 0.01\n",
    "ETH = pd.read_parquet('ETH-USDT.parquet', engine='fastparquet')  # Tick size: 0.01\n",
    "DASH = pd.read_parquet('DASH-USDT.parquet', engine='fastparquet')  # Tick size: 0.01\n",
    "LTC = pd.read_parquet('LTC-USDT.parquet', engine='fastparquet')  # Tick size: 0.01\n",
    "XMR = pd.read_parquet('XMR-USDT.parquet', engine='fastparquet')  # Tick size: 0.01\n",
    "ETC = pd.read_parquet('ETC-USDT.parquet', engine='fastparquet')  # Tick size: 0.001\n",
    "BNB = pd.read_parquet('BNB-USDT.parquet', engine='fastparquet')  # Tick size: 0.001\n",
    "ADA = pd.read_parquet('ADA-USDT.parquet', engine='fastparquet')  # Tick size: 0.00001\n",
    "LINK = pd.read_parquet('LINK-USDT.parquet', engine='fastparquet')  # Tick size: 0.001\n",
    "XRP = pd.read_parquet('XRP-USDT.parquet', engine='fastparquet')  # Tick size: 0.0001\n",
    "XTZ = pd.read_parquet('XTZ-USDT.parquet', engine='fastparquet')  # Tick size: 0.001\n",
    "EOS = pd.read_parquet('EOS-USDT.parquet', engine='fastparquet')  # Tick size: 0.001"
   ]
  },
  {
   "cell_type": "code",
   "execution_count": 4,
   "metadata": {},
   "outputs": [],
   "source": [
    "BCH = BCH[['open', 'high', 'low', 'close']]\n",
    "BTC = BTC[['open', 'high', 'low', 'close']]\n",
    "ETH = ETH[['open', 'high', 'low', 'close']]\n",
    "DASH = DASH[['open', 'high', 'low', 'close']]\n",
    "LTC = LTC[['open', 'high', 'low', 'close']]\n",
    "XMR = XMR[['open', 'high', 'low', 'close']]\n",
    "ETC = ETC[['open', 'high', 'low', 'close']]\n",
    "BNB = BNB[['open', 'high', 'low', 'close']]\n",
    "ADA = ADA[['open', 'high', 'low', 'close']]\n",
    "LINK = LINK[['open', 'high', 'low', 'close']]\n",
    "XRP = XRP[['open', 'high', 'low', 'close']]\n",
    "XTZ = XTZ[['open', 'high', 'low', 'close']]\n",
    "EOS = EOS[['open', 'high', 'low', 'close']]"
   ]
  },
  {
   "cell_type": "code",
   "execution_count": 5,
   "metadata": {},
   "outputs": [],
   "source": [
    "coins = [BCH, BTC, ETH, DASH, LTC, XMR, ETC, BNB, ADA, LINK, XRP, XTZ, EOS]\n",
    "coins_list = ['BCH', 'BTC', 'ETH', 'DASH', 'LTC', 'XMR', 'ETC', 'BNB', 'ADA', 'LINK', 'XRP', 'XTZ', 'EOS']"
   ]
  },
  {
   "cell_type": "code",
   "execution_count": 6,
   "metadata": {},
   "outputs": [],
   "source": [
    "for i in coins:\n",
    "    i['high-low'] = i['high'] - i['low']\n",
    "    i['range_percentage'] = i['high-low']/i['close']"
   ]
  },
  {
   "cell_type": "code",
   "execution_count": 7,
   "metadata": {},
   "outputs": [],
   "source": [
    "# Average of range_percentage column for each coin\n",
    "\n",
    "BCH_avg_range_percentage = np.mean(BCH['range_percentage'])*1.2*100\n",
    "BTC_avg_range_percentage = np.mean(BTC['range_percentage'])*1.2*100\n",
    "ETH_avg_range_percentage = np.mean(ETH['range_percentage'])*1.2*100\n",
    "DASH_avg_range_percentage = np.mean(DASH['range_percentage'])*1.2*100\n",
    "LTC_range_percentage = np.mean(LTC['range_percentage'])*1.2*100\n",
    "XMR_avg_range_percentage = np.mean(XMR['range_percentage'])*1.2*100\n",
    "ETC_avg_range_percentage = np.mean(ETC['range_percentage'])*1.2*100\n",
    "BNB_avg_range_percentage = np.mean(BNB['range_percentage'])*1.2*100\n",
    "ADA_avg_range_percentage = np.mean(ADA['range_percentage'])*1.2*100\n",
    "LINK_avg_range_percentage = np.mean(LINK['range_percentage'])*1.2*100\n",
    "XRP_avg_range_percentage = np.mean(XRP['range_percentage'])*1.2*100\n",
    "XTZ_avg_range_percentage = np.mean(XTZ['range_percentage'])*1.2*100\n",
    "EOS_avg_range_percentage = np.mean(EOS['range_percentage'])*1.2*100"
   ]
  },
  {
   "cell_type": "code",
   "execution_count": 8,
   "metadata": {},
   "outputs": [],
   "source": [
    "# Average of each coin's close price\n",
    "\n",
    "BCH_average_close = np.mean(BCH['close'])\n",
    "BTC_average_close = np.mean(BTC['close'])\n",
    "ETH_average_close = np.mean(ETH['close'])\n",
    "DASH_average_close = np.mean(DASH['close'])\n",
    "LTC_average_close = np.mean(LTC['close'])\n",
    "XMR_average_close = np.mean(XMR['close'])\n",
    "ETC_average_close = np.mean(ETC['close'])\n",
    "BNB_average_close = np.mean(BNB['close'])\n",
    "ADA_average_close = np.mean(ADA['close'])\n",
    "LINK_average_close = np.mean(LINK['close'])\n",
    "XRP_average_close = np.mean(XRP['close'])\n",
    "XTZ_average_close = np.mean(XTZ['close'])\n",
    "EOS_average_close = np.mean(EOS['close'])"
   ]
  },
  {
   "cell_type": "code",
   "execution_count": 9,
   "metadata": {},
   "outputs": [],
   "source": [
    "for i in coins[0:6]:\n",
    "    i['range_ticks'] = (i['range_percentage'] * i['close'] * 1.2)/0.01\n",
    "\n",
    "for i in coins[6:]:\n",
    "    i['range_ticks'] = (i['range_percentage'] * i['close'] * 1.2)/0.001"
   ]
  },
  {
   "cell_type": "code",
   "execution_count": 10,
   "metadata": {
    "scrolled": true
   },
   "outputs": [],
   "source": [
    "# Upper bound for slippage (in security's price): max(high-low) - mean(high-low)... CALCULATE UPPER BOUND for SLIPPAGE in PERCENTAGE\n",
    "\n",
    "BCH_slippage_upperbound = np.max(BCH['high-low']) - np.mean(BCH['high-low'])\n",
    "BTC_slippage_upperbound = np.max(BTC['high-low']) - np.mean(BTC['high-low'])\n",
    "ETH_slippage_upperbound = np.max(ETH['high-low']) - np.mean(ETH['high-low'])\n",
    "DASH_slippage_upperbound = np.max(DASH['high-low']) - np.mean(DASH['high-low'])\n",
    "LTC_slippage_upperbound = np.max(LTC['high-low']) - np.mean(LTC['high-low'])\n",
    "XMR_slippage_upperbound = np.max(XMR['high-low']) - np.mean(XMR['high-low'])\n",
    "ETC_slippage_upperbound = np.max(ETC['high-low']) - np.mean(ETC['high-low'])\n",
    "BNB_slippage_upperbound = np.max(BNB['high-low']) - np.mean(BNB['high-low'])\n",
    "ADA_slippage_upperbound = np.max(ADA['high-low']) - np.mean(ADA['high-low'])\n",
    "LINK_slippage_upperbound = np.max(LINK['high-low']) - np.mean(LINK['high-low'])\n",
    "XRP_slippage_upperbound = np.max(XRP['high-low']) - np.mean(XRP['high-low'])\n",
    "XTZ_slippage_upperbound = np.max(XTZ['high-low']) - np.mean(XTZ['high-low'])\n",
    "EOS_slippage_upperbound = np.max(EOS['high-low']) - np.mean(EOS['high-low'])"
   ]
  },
  {
   "cell_type": "code",
   "execution_count": 11,
   "metadata": {},
   "outputs": [
    {
     "name": "stdout",
     "output_type": "stream",
     "text": [
      "BCH average range percentage: 0.19319582730531693%\n",
      "BTC average range percentage: 0.17308106180280447%\n",
      "ETH average range percentage: 0.20719498861581087%\n",
      "DASH average range percentage: 0.10066735558211803%\n",
      "LTC average range percentage: 0.21297042723745105%\n",
      "XMR average range percentage: 0.08731827372685075%\n",
      "ETC average range percentage: 0.14995279256254435%\n",
      "BNB average range percentage: 0.22914004046469924%\n",
      "ADA average range percentage: 0.1839155936613679%\n",
      "LINK average range percentage: 0.20099796820431948%\n",
      "XRP average range percentage: 0.174252656288445%\n",
      "XTZ average range percentage: 0.18123251851648092%\n",
      "EOS average range percentage: 0.18128863535821438%\n"
     ]
    }
   ],
   "source": [
    "for i in range(len(coins)):\n",
    "    print(coins_list[i] + \" average range percentage: \" + str(np.mean(coins[i]['range_percentage'])*1.2*100) + \"%\")"
   ]
  },
  {
   "cell_type": "code",
   "execution_count": 12,
   "metadata": {},
   "outputs": [
    {
     "name": "stdout",
     "output_type": "stream",
     "text": [
      "BCH average number of ticks per minute: 52.30726574651767\n",
      "BTC average number of ticks per minute: 1445.9549003600873\n",
      "ETH average number of ticks per minute: 79.04544135540786\n",
      "DASH average number of ticks per minute: 9.181774626008552\n",
      "LTC average number of ticks per minute: 21.54272388824024\n",
      "XMR average number of ticks per minute: 5.8307806184467585\n",
      "ETC average number of ticks per minute: 11.985825843915617\n",
      "BNB average number of ticks per minute: 33.074624029458676\n",
      "ADA average number of ticks per minute: 0.16326199277217288\n",
      "LINK average number of ticks per minute: 4.825085227009344\n",
      "XRP average number of ticks per minute: 0.6219484115990377\n",
      "XTZ average number of ticks per minute: 3.816286440348186\n",
      "EOS average number of ticks per minute: 8.421973799617495\n"
     ]
    }
   ],
   "source": [
    "for i in range(len(coins)):\n",
    "    print(coins_list[i] + \" average number of ticks per minute: \" + str(np.mean(coins[i]['range_ticks'])))"
   ]
  },
  {
   "cell_type": "code",
   "execution_count": 13,
   "metadata": {
    "scrolled": true
   },
   "outputs": [
    {
     "name": "stdout",
     "output_type": "stream",
     "text": [
      "BCH average price: 265.8647155761719\n",
      "BTC average price: 7630.2763671875\n",
      "ETH average price: 314.41455078125\n",
      "DASH average price: 93.8644790649414\n",
      "LTC average price: 84.01652526855469\n",
      "XMR average price: 67.71664428710938\n",
      "ETC average price: 7.421838760375977\n",
      "BNB average price: 15.054184913635254\n",
      "ADA average price: 0.07789292186498642\n",
      "LINK average price: 2.174978733062744\n",
      "XRP average price: 0.33311721682548523\n",
      "XTZ average price: 1.8810468912124634\n",
      "EOS average price: 4.3907270431518555\n"
     ]
    }
   ],
   "source": [
    "for i in range(len(coins)):\n",
    "    print(coins_list[i] + \" average price: \" + str(np.mean(coins[i]['close'])))"
   ]
  },
  {
   "cell_type": "code",
   "execution_count": null,
   "metadata": {},
   "outputs": [],
   "source": []
  }
 ],
 "metadata": {
  "kernelspec": {
   "display_name": "Python 3",
   "language": "python",
   "name": "python3"
  },
  "language_info": {
   "codemirror_mode": {
    "name": "ipython",
    "version": 3
   },
   "file_extension": ".py",
   "mimetype": "text/x-python",
   "name": "python",
   "nbconvert_exporter": "python",
   "pygments_lexer": "ipython3",
   "version": "3.6.5"
  }
 },
 "nbformat": 4,
 "nbformat_minor": 2
}
