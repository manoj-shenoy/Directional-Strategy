{
 "cells": [
  {
   "cell_type": "code",
   "execution_count": 1,
   "metadata": {},
   "outputs": [
    {
     "data": {
      "text/html": [
       "<style>.container { width:100% !important; }</style>"
      ],
      "text/plain": [
       "<IPython.core.display.HTML object>"
      ]
     },
     "metadata": {},
     "output_type": "display_data"
    }
   ],
   "source": [
    "from IPython.core.display import display, HTML\n",
    "display(HTML(\"<style>.container { width:100% !important; }</style>\"))"
   ]
  },
  {
   "cell_type": "code",
   "execution_count": 2,
   "metadata": {},
   "outputs": [],
   "source": [
    "import numpy as np\n",
    "import pandas as pd"
   ]
  },
  {
   "cell_type": "code",
   "execution_count": 3,
   "metadata": {},
   "outputs": [],
   "source": [
    "futures_multiplier = 1.2\n",
    "tick_size_percentile = 80\n",
    "bar_size_percentile = 80\n",
    "coins_tick_dict = {'BCH':0.01, 'BTC':0.01, 'ETH':0.01, 'DASH':0.01, 'LTC':0.01, 'XMR':0.01, 'ETC':0.001, 'BNB':0.001, 'ADA':0.00001, 'LINK':0.001, 'XRP':0.0001, 'XTZ':0.001, 'EOS':0.001}"
   ]
  },
  {
   "cell_type": "code",
   "execution_count": 4,
   "metadata": {},
   "outputs": [],
   "source": [
    "# Read all files in from directory\n",
    "\n",
    "paths = [i+'-USDT.parquet' for i in list(coins_tick_dict.keys())]\n",
    "#paths = [i+'-USDT.parquet' for i in coins_list]\n",
    "dfs = {p: pd.read_parquet(p, engine='fastparquet') for p in paths}"
   ]
  },
  {
   "cell_type": "code",
   "execution_count": 5,
   "metadata": {},
   "outputs": [],
   "source": [
    "# Geting rid of \"-USDT.parquet\" from dfs.keys()\n",
    "\n",
    "kv = list(dfs.items())\n",
    "dfs.clear()\n",
    "for k, v in kv :\n",
    "    ...\n",
    "    dfs[k[:-13]] = v"
   ]
  },
  {
   "cell_type": "code",
   "execution_count": 6,
   "metadata": {
    "scrolled": true
   },
   "outputs": [
    {
     "name": "stderr",
     "output_type": "stream",
     "text": [
      "C:\\Users\\nikhi\\Anaconda3\\lib\\site-packages\\pandas\\core\\indexing.py:362: SettingWithCopyWarning: \n",
      "A value is trying to be set on a copy of a slice from a DataFrame.\n",
      "Try using .loc[row_indexer,col_indexer] = value instead\n",
      "\n",
      "See the caveats in the documentation: http://pandas.pydata.org/pandas-docs/stable/indexing.html#indexing-view-versus-copy\n",
      "  self.obj[key] = _infer_fill_value(value)\n",
      "C:\\Users\\nikhi\\Anaconda3\\lib\\site-packages\\pandas\\core\\indexing.py:543: SettingWithCopyWarning: \n",
      "A value is trying to be set on a copy of a slice from a DataFrame.\n",
      "Try using .loc[row_indexer,col_indexer] = value instead\n",
      "\n",
      "See the caveats in the documentation: http://pandas.pydata.org/pandas-docs/stable/indexing.html#indexing-view-versus-copy\n",
      "  self.obj[item] = s\n"
     ]
    }
   ],
   "source": [
    "# Create new calculated columns for all dfs\n",
    "\n",
    "for key,item in dfs.items():\n",
    "    item = item[['open', 'high', 'low', 'close']]\n",
    "    item.loc[:,'high-low'] = item['high'] - item['low']\n",
    "    item.loc[:,'range_percentage'] = item['high-low']/item['close']\n",
    "    item.loc[:,'range_ticks'] = (item['range_percentage'] * item['close'] * futures_multiplier)/coins_tick_dict[key]\n",
    "    \n",
    "    dfs[key] = item"
   ]
  },
  {
   "cell_type": "code",
   "execution_count": 7,
   "metadata": {
    "scrolled": true
   },
   "outputs": [
    {
     "name": "stdout",
     "output_type": "stream",
     "text": [
      "BCH average range percentage: 0.19319582730531693%\n",
      "BTC average range percentage: 0.17308106180280447%\n",
      "ETH average range percentage: 0.20719498861581087%\n",
      "DASH average range percentage: 0.10066735558211803%\n",
      "LTC average range percentage: 0.21297042723745105%\n",
      "XMR average range percentage: 0.08731827372685075%\n",
      "ETC average range percentage: 0.14995279256254435%\n",
      "BNB average range percentage: 0.22914004046469924%\n",
      "ADA average range percentage: 0.1839155936613679%\n",
      "LINK average range percentage: 0.20099796820431948%\n",
      "XRP average range percentage: 0.174252656288445%\n",
      "XTZ average range percentage: 0.18123251851648092%\n",
      "EOS average range percentage: 0.18128863535821438%\n"
     ]
    }
   ],
   "source": [
    "# Average range percentage for each coin (high-low movement per minute multiplied by a factor \n",
    "# and taken as a percentage of corresponding price, then averaged across all minutes)\n",
    "\n",
    "for key,item in dfs.items():\n",
    "    s = str(key)\n",
    "    key = np.mean(item['range_percentage'])*futures_multiplier*100\n",
    "    print(s + \" average range percentage: \" + str(key) + \"%\")"
   ]
  },
  {
   "cell_type": "code",
   "execution_count": 8,
   "metadata": {},
   "outputs": [
    {
     "name": "stdout",
     "output_type": "stream",
     "text": [
      "BCH average price: $265.8647155761719\n",
      "BTC average price: $7630.2763671875\n",
      "ETH average price: $314.41455078125\n",
      "DASH average price: $93.8644790649414\n",
      "LTC average price: $84.01652526855469\n",
      "XMR average price: $67.71664428710938\n",
      "ETC average price: $7.421838760375977\n",
      "BNB average price: $15.054184913635254\n",
      "ADA average price: $0.07789292186498642\n",
      "LINK average price: $2.174978733062744\n",
      "XRP average price: $0.33311721682548523\n",
      "XTZ average price: $1.8810468912124634\n",
      "EOS average price: $4.3907270431518555\n"
     ]
    }
   ],
   "source": [
    "# Average of each coin's close price across all minute bars\n",
    "\n",
    "for key,item in dfs.items():\n",
    "    s = str(key)\n",
    "    key = np.mean(item['close'])\n",
    "    print(s + \" average price: \" + \"$\" + str(key))"
   ]
  },
  {
   "cell_type": "code",
   "execution_count": 9,
   "metadata": {},
   "outputs": [
    {
     "name": "stdout",
     "output_type": "stream",
     "text": [
      "BCH average number of ticks per minute: 52.30726574651767\n",
      "BTC average number of ticks per minute: 1445.9549003600873\n",
      "ETH average number of ticks per minute: 79.04544135540786\n",
      "DASH average number of ticks per minute: 9.181774626008552\n",
      "LTC average number of ticks per minute: 21.54272388824024\n",
      "XMR average number of ticks per minute: 5.8307806184467585\n",
      "ETC average number of ticks per minute: 11.985825843915617\n",
      "BNB average number of ticks per minute: 33.074624029458676\n",
      "ADA average number of ticks per minute: 16.326199277208534\n",
      "LINK average number of ticks per minute: 4.825085227009344\n",
      "XRP average number of ticks per minute: 6.2194841159869805\n",
      "XTZ average number of ticks per minute: 3.816286440348186\n",
      "EOS average number of ticks per minute: 8.421973799617495\n"
     ]
    }
   ],
   "source": [
    "# Average number of ticks movement per minute for each coin\n",
    "\n",
    "for key,item in dfs.items():\n",
    "    s = str(key)\n",
    "    key = np.mean(item['range_ticks'])\n",
    "    print(s + \" average number of ticks per minute: \" + str(key))"
   ]
  },
  {
   "cell_type": "code",
   "execution_count": 10,
   "metadata": {},
   "outputs": [
    {
     "name": "stdout",
     "output_type": "stream",
     "text": [
      "BCH 80th percentile tick size: 74.4012451171875\n",
      "BTC 80th percentile tick size: 1916.4256668090818\n",
      "ETH 80th percentile tick size: 98.40087890625\n",
      "DASH 80th percentile tick size: 13.200073242187498\n",
      "LTC 80th percentile tick size: 25.19989013671875\n",
      "XMR 80th percentile tick size: 9.599761962890625\n",
      "ETC 80th percentile tick size: 18.119430541992188\n",
      "BNB 80th percentile tick size: 47.879791259765625\n",
      "ADA 80th percentile tick size: 21.600723266601562\n",
      "LINK 80th percentile tick size: 7.6801300048828125\n",
      "XRP 80th percentile tick size: 8.520126342773438\n",
      "XTZ 80th percentile tick size: 6.239891052246094\n",
      "EOS 80th percentile tick size: 11.63978576660156\n"
     ]
    }
   ],
   "source": [
    "# Upper bound for slippage in ticks - 80th (tick_size_percentile variable) percentile of range_ticks column for each coin\n",
    "\n",
    "for key,item in dfs.items():\n",
    "    s = str(key)\n",
    "    key = np.percentile(item['range_ticks'].sort_values(), tick_size_percentile)\n",
    "    print(s + \" \" + str(tick_size_percentile) + \"th percentile tick size: \" + str(key))"
   ]
  },
  {
   "cell_type": "code",
   "execution_count": 11,
   "metadata": {},
   "outputs": [
    {
     "name": "stdout",
     "output_type": "stream",
     "text": [
      "BCH 80th percentile range_percentage: 0.22025469224900007%\n",
      "BTC 80th percentile range_percentage: 0.1999487448483705%\n",
      "ETH 80th percentile range_percentage: 0.23826056160032746%\n",
      "DASH 80th percentile range_percentage: 0.13445685617625713%\n",
      "LTC 80th percentile range_percentage: 0.24805445224046718%\n",
      "XMR 80th percentile range_percentage: 0.12114866403862834%\n",
      "ETC 80th percentile range_percentage: 0.19369286717846992%\n",
      "BNB 80th percentile range_percentage: 0.26360975578427315%\n",
      "ADA 80th percentile range_percentage: 0.23357842583209276%\n",
      "LINK 80th percentile range_percentage: 0.268850801512599%\n",
      "XRP 80th percentile range_percentage: 0.20106599200516942%\n",
      "XTZ 80th percentile range_percentage: 0.2500181086361408%\n",
      "EOS 80th percentile range_percentage: 0.2109817694872619%\n"
     ]
    }
   ],
   "source": [
    "# Lower bound for bar size - 80th percentile of range_percentage values for each coin\n",
    "# Bar size should be at least as much as lower bound to absorb enough volatility to avoid whipsaw movement\n",
    "# Take percentage in output of current price for every coin  - that would be lower bound for bar size\n",
    "\n",
    "for key,item in dfs.items():\n",
    "    s = str(key)\n",
    "    key = np.percentile(item['range_percentage'].sort_values(), bar_size_percentile)*100\n",
    "    print(s + \" \" + str(bar_size_percentile) + \"th percentile range_percentage: \" + str(key) + \"%\")"
   ]
  }
 ],
 "metadata": {
  "kernelspec": {
   "display_name": "Python 3",
   "language": "python",
   "name": "python3"
  },
  "language_info": {
   "codemirror_mode": {
    "name": "ipython",
    "version": 3
   },
   "file_extension": ".py",
   "mimetype": "text/x-python",
   "name": "python",
   "nbconvert_exporter": "python",
   "pygments_lexer": "ipython3",
   "version": "3.6.5"
  }
 },
 "nbformat": 4,
 "nbformat_minor": 2
}
